{
 "cells": [
  {
   "cell_type": "code",
   "execution_count": 20,
   "metadata": {},
   "outputs": [],
   "source": [
    "import sys\n",
    "sys.path.append('../')\n",
    "import numpy\n",
    "import matplotlib.pyplot as plt\n",
    "from scripts.data import Dataset, CP_divide\n",
    "import ROOT\n",
    "from ROOT import TH1D, TCanvas, gStyle, TLegend, TLorentzVector\n",
    "from scripts.ang_functions import add_angvar_todata"
   ]
  },
  {
   "cell_type": "code",
   "execution_count": 21,
   "metadata": {
    "pycharm": {
     "name": "#%%\n"
    }
   },
   "outputs": [],
   "source": [
    "dataPath = '/home/anna/master_thesis/data/withBDT/'\n",
    "saveLocation = '/home/anna/master_thesis/files_asymmetry/0601/'\n",
    "fileType = 'sideband'\n",
    "data_2016 = Dataset(dataPath, years=[2016], fileType=fileType, L0trigger=True).get_data()\n",
    "data_2017 = Dataset(dataPath, years=[2017], fileType=fileType, L0trigger=True).get_data()\n",
    "data_2018 = Dataset(dataPath, years=[2018], fileType=fileType, L0trigger=True).get_data()"
   ]
  },
  {
   "cell_type": "code",
   "execution_count": 22,
   "metadata": {},
   "outputs": [],
   "source": [
    "add_angvar_todata(data_2016)\n",
    "add_angvar_todata(data_2017)\n",
    "add_angvar_todata(data_2018)"
   ]
  },
  {
   "cell_type": "code",
   "execution_count": 30,
   "metadata": {},
   "outputs": [],
   "source": [
    "data_2016 = data_2016.loc[data_2016['newBDT'] > 0.82].reset_index(drop=True)\n",
    "data_2017 = data_2017.loc[data_2017['newBDT'] > 0.82].reset_index(drop=True)\n",
    "data_2018 = data_2018.loc[data_2018['newBDT'] > 0.82].reset_index(drop=True)"
   ]
  },
  {
   "cell_type": "code",
   "execution_count": 31,
   "metadata": {},
   "outputs": [],
   "source": [
    "observables = {'phi': [[-3., 3.], '#phi'],\n",
    "               'costhetal': [[-1., 1.], 'cos(#theta_{l})'],\n",
    "               'costhetak': [[-1., 1.], 'cos(#theta_{k})'],\n",
    "               'B0_MM': [[5300, 7000], 'M_{B^{0}} [MeV]'],\n",
    "               'Kstar_MM': [[800, 990], 'M_{K^{*}} [MeV]'],\n",
    "               # 'mu_P': [[5000, 150000], 'P_{#mu} [MeV/c]'],\n",
    "               # 'mu_PT': [[0, 10000], 'P_{T#mu} [MeV/c]'],\n",
    "               # 'mu_TRACK_CHI2NDOF': [[0.3, 2.9], '#mu #chi^{2}/DOF'],\n",
    "               # 'mu_ETA': [[1.7, 5.1], 'eta_{#mu}']\n",
    "               }"
   ]
  },
  {
   "cell_type": "code",
   "execution_count": 34,
   "metadata": {},
   "outputs": [
    {
     "name": "stderr",
     "output_type": "stream",
     "text": [
      "Info in <TCanvas::Print>: pdf file ../plots/sideband_run2_years_BDTcut.pdf has been created using the current canvas\n",
      "Info in <TCanvas::Print>: Current canvas added to pdf file ../plots/sideband_run2_years_BDTcut.pdf\n",
      "Info in <TCanvas::Print>: Current canvas added to pdf file ../plots/sideband_run2_years_BDTcut.pdf\n",
      "Info in <TCanvas::Print>: Current canvas added to pdf file ../plots/sideband_run2_years_BDTcut.pdf\n",
      "Info in <TCanvas::Print>: Current canvas added to pdf file ../plots/sideband_run2_years_BDTcut.pdf and file closed\n"
     ]
    },
    {
     "data": {
      "image/png": "[encoded data removed]",
      "text/plain": [
       "<IPython.core.display.Image object>"
      ]
     },
     "metadata": {},
     "output_type": "display_data"
    }
   ],
   "source": [
    "for n, obs in enumerate(observables):\n",
    "    \n",
    "    hist_2016 = TH1D('2016_{}'.format(obs), '', 20, observables[obs][0][0], observables[obs][0][1])\n",
    "    hist_2016.Sumw2()\n",
    "    hist_2017 = TH1D('2017_{}'.format(obs), '', 20, observables[obs][0][0], observables[obs][0][1])\n",
    "    hist_2017.Sumw2()\n",
    "    hist_2018 = TH1D('2018_{}'.format(obs), '', 20, observables[obs][0][0], observables[obs][0][1])\n",
    "    hist_2018.Sumw2()\n",
    "\n",
    "    for event in data_2016[obs]:\n",
    "        hist_2016.Fill(event)\n",
    "    for event in data_2017[obs]:\n",
    "        hist_2017.Fill(event)\n",
    "    for event in data_2018[obs]:\n",
    "        hist_2018.Fill(event)\n",
    "\n",
    "    hist_2016.Scale(1. / hist_2016.Integral(), 'width')\n",
    "    hist_2017.Scale(1. / hist_2017.Integral(), 'width')\n",
    "    hist_2018.Scale(1. / hist_2018.Integral(), 'width')\n",
    "    hist_2016.GetYaxis().SetTitle('frequency')\n",
    "    hist_2016.GetXaxis().SetTitle(observables[obs][1])\n",
    "    low_lim = 0.0001\n",
    "    if obs=='B0_MM':\n",
    "        up_lim = 1./(observables[obs][0][1] - observables[obs][0][0]) * 3.5\n",
    "    else:\n",
    "        up_lim = 1./(observables[obs][0][1] - observables[obs][0][0]) * 3\n",
    "    hist_2016.GetYaxis().SetRangeUser(low_lim, up_lim)\n",
    "    hist_2016.SetStats(0)\n",
    "    hist_2016.SetLineColor(2)\n",
    "    hist_2017.SetLineColor(8)\n",
    "    hist_2018.SetLineColor(4)\n",
    "    # Draw histograms and legend\n",
    "    drawCanv = TCanvas('obs_{}'.format(obs), '{}'.format(obs), 600, 400)\n",
    "    hist_2016.Draw('E')\n",
    "    hist_2017.Draw('E same')\n",
    "    hist_2018.Draw('E same')\n",
    "    leg = TLegend(.75, .7, 0.95, .9, '')\n",
    "    leg.SetFillColor(0)\n",
    "    leg.SetTextSize(0.04)\n",
    "    leg.AddEntry(hist_2016, '2016 data', 'L')\n",
    "    leg.AddEntry(hist_2017, '2017 data', 'L')\n",
    "    leg.AddEntry(hist_2018, '2018 data', 'L')\n",
    "    leg.DrawClone('same')\n",
    "    drawCanv.SetMargin(0.15, 0.05, 0.1, 0.1)\n",
    "    drawCanv.Draw()\n",
    "    if n==0:\n",
    "        drawCanv.Print('../plots/sideband_run2_years_BDTcut.pdf(')\n",
    "    else:\n",
    "        if n == len(observables)-1:\n",
    "            drawCanv.Print('../plots/sideband_run2_years_BDTcut.pdf)')\n",
    "        else:\n",
    "            drawCanv.Print('../plots/sideband_run2_years_BDTcut.pdf')"
   ]
  },
  {
   "cell_type": "code",
   "execution_count": null,
   "metadata": {},
   "outputs": [],
   "source": []
  }
 ],
 "metadata": {
  "kernelspec": {
   "display_name": "Python 3",
   "language": "python",
   "name": "python3"
  },
  "language_info": {
   "codemirror_mode": {
    "name": "ipython",
    "version": 3
   },
   "file_extension": ".py",
   "mimetype": "text/x-python",
   "name": "python",
   "nbconvert_exporter": "python",
   "pygments_lexer": "ipython3",
   "version": "3.6.9"
  }
 },
 "nbformat": 4,
 "nbformat_minor": 1
}
